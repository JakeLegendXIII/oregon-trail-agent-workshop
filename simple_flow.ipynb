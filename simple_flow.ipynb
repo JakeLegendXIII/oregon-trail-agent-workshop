{
 "cells": [
  {
   "cell_type": "code",
   "execution_count": 1,
   "metadata": {},
   "outputs": [],
   "source": [
    "from langchain.tools.retriever import create_retriever_tool\n",
    "from langchain_core.documents import Document\n",
    "from langchain_core.messages import SystemMessage\n",
    "from langchain_openai import ChatOpenAI, OpenAIEmbeddings\n",
    "from langchain_redis import RedisVectorStore\n",
    "from langgraph.graph import START, MessagesState, StateGraph\n",
    "from langgraph.prebuilt import (\n",
    "    tools_condition,  # this is the checker for the if you got a tool back\n",
    ")\n",
    "from langgraph.prebuilt import ToolNode"
   ]
  },
  {
   "cell_type": "code",
   "execution_count": 2,
   "metadata": {},
   "outputs": [],
   "source": [
    "SYS_MSG = SystemMessage(\n",
    "    content=\"You are an oregon trail playing AI agent. Use the tools available to answer the questions provided. Important: if options are provided in the question replay only with the single character A, B, C, or D and no additional text.\"\n",
    ")\n"
   ]
  },
  {
   "cell_type": "code",
   "execution_count": 4,
   "metadata": {},
   "outputs": [
    {
     "data": {
      "text/plain": [
       "True"
      ]
     },
     "execution_count": 4,
     "metadata": {},
     "output_type": "execute_result"
    }
   ],
   "source": [
    "from dotenv import load_dotenv\n",
    "\n",
    "load_dotenv()"
   ]
  },
  {
   "cell_type": "code",
   "execution_count": 5,
   "metadata": {},
   "outputs": [],
   "source": [
    "doc = Document(\n",
    "    page_content=\"the northern trail, of the blue mountains, was destroyed by a flood and is no longer safe to traverse. It is recommended to take the southern trail although it is longer.\"\n",
    ")\n",
    "\n",
    "vectorstore = RedisVectorStore.from_documents(\n",
    "    [doc],\n",
    "    OpenAIEmbeddings(),\n",
    "    redis_url=\"redis://localhost:6379/0\",\n",
    "    index_name=\"oregon_trail\",\n",
    ")\n",
    "\n",
    "retriever_tool = create_retriever_tool(\n",
    "    vectorstore.as_retriever(),\n",
    "    \"retrieve_trail_tips\",\n",
    "    \"Search and return information that is helpful for answering questions about what to do next on the Oregon Trail\",\n",
    ")\n",
    "\n",
    "tools = [retriever_tool]"
   ]
  },
  {
   "cell_type": "code",
   "execution_count": 43,
   "metadata": {},
   "outputs": [],
   "source": [
    "from langchain_redis import RedisConfig\n",
    "\n",
    "config = RedisConfig(index_name=\"oregon_trail\", redis_url=\"redis://localhost:6379/0\")\n",
    "\n",
    "def get_vectorstore(config):\n",
    "    try:\n",
    "        config.from_existing = True\n",
    "        vectorstore = RedisVectorStore(OpenAIEmbeddings(), config=config)\n",
    "    except:\n",
    "        print(\"Init vector store\")\n",
    "        config.from_existing = False\n",
    "        vectorstore = RedisVectorStore.from_documents(\n",
    "            [doc],\n",
    "            OpenAIEmbeddings(),\n",
    "            config=config\n",
    "        )\n",
    "    return vectorstore\n"
   ]
  },
  {
   "cell_type": "code",
   "execution_count": 45,
   "metadata": {},
   "outputs": [
    {
     "name": "stdout",
     "output_type": "stream",
     "text": [
      "10:36:02 redisvl.index.index INFO   Index already exists, not overwriting.\n"
     ]
    }
   ],
   "source": [
    "vs = get_vectorstore(config)"
   ]
  },
  {
   "cell_type": "code",
   "execution_count": 22,
   "metadata": {},
   "outputs": [],
   "source": [
    "vectorstore = RedisVectorStore.from_documents(\n",
    "    [doc],\n",
    "    OpenAIEmbeddings(),\n",
    "    redis_url=config.redis_url,\n",
    "    index_name=config.index_name,\n",
    ")"
   ]
  },
  {
   "cell_type": "code",
   "execution_count": 31,
   "metadata": {},
   "outputs": [],
   "source": [
    "config = RedisConfig(index_name=\"oregon_trail\", redis_url=\"redis://localhost:6379/0\")\n",
    "vectorstore = RedisVectorStore.from_documents(\n",
    "    [doc],\n",
    "    OpenAIEmbeddings(),\n",
    "    config=config\n",
    ")"
   ]
  },
  {
   "cell_type": "code",
   "execution_count": 20,
   "metadata": {},
   "outputs": [
    {
     "name": "stdout",
     "output_type": "stream",
     "text": [
      "Init vector store\n"
     ]
    }
   ],
   "source": [
    "vs = get_vectorstore(config)"
   ]
  },
  {
   "cell_type": "code",
   "execution_count": 11,
   "metadata": {},
   "outputs": [
    {
     "data": {
      "text/plain": [
       "1"
      ]
     },
     "execution_count": 11,
     "metadata": {},
     "output_type": "execute_result"
    }
   ],
   "source": [
    "existing_vector_store.index.info()[\"num_docs\"]"
   ]
  },
  {
   "cell_type": "code",
   "execution_count": 29,
   "metadata": {},
   "outputs": [],
   "source": [
    "llm = ChatOpenAI(model=\"gpt-4o\")\n",
    "llm_with_tools = llm.bind_tools(tools)\n"
   ]
  },
  {
   "cell_type": "code",
   "execution_count": null,
   "metadata": {},
   "outputs": [],
   "source": [
    "llm = ChatOpenAI(model=\"gpt-4o\")\n",
    "llm_with_tools = llm.bind_tools(tools)\n",
    "\n",
    "def agent(state: MessagesState):\n",
    "    print(state[\"messages\"])\n",
    "    if state['messages'][-1].name == \"retrieve_blog_posts\":\n",
    "        return {\n",
    "            \"messages\": [\n",
    "                llm_with_tools.invoke(\n",
    "                    [SYS_MSG] + \n",
    "                    [f\"{state['messages'][0].content} \\\n",
    "                     consider context: {state['messages'][-1].content}\"]\n",
    "                    )\n",
    "                ]\n",
    "            }\n",
    "    else:\n",
    "        return {\"messages\": [llm_with_tools.invoke([SYS_MSG] + state['messages'])]}\n",
    "\n",
    "builder = StateGraph(MessagesState)\n",
    "\n",
    "# Add nodes\n",
    "builder.add_node(\"agent\", agent)\n",
    "builder.add_node(\"tools\", ToolNode(tools))  # for the tools\n",
    "\n",
    "# Add edges\n",
    "builder.add_edge(START, \"agent\")\n",
    "builder.add_conditional_edges(\n",
    "    \"agent\",\n",
    "    # If the latest message (result)\n",
    "    # from node agent is a tool call -> tools_condition routes to tools\n",
    "    # If the latest message (result)\n",
    "    # from node agent is a not a tool call -> tools_condition routes to END\n",
    "    tools_condition,\n",
    ")\n",
    "builder.add_edge(\"tools\", \"agent\")\n",
    "graph = builder.compile()"
   ]
  },
  {
   "cell_type": "code",
   "execution_count": 7,
   "metadata": {},
   "outputs": [
    {
     "data": {
      "image/png": "[encoded data removed]",
      "text/plain": [
       "<IPython.core.display.Image object>"
      ]
     },
     "metadata": {},
     "output_type": "display_data"
    }
   ],
   "source": [
    "from IPython.display import Image, display\n",
    "\n",
    "builder = StateGraph(MessagesState)\n",
    "\n",
    "# Add nodes\n",
    "builder.add_node(\"agent\", agent)\n",
    "builder.add_node(\"tools\", ToolNode(tools))  # for the tools\n",
    "\n",
    "# Add edges\n",
    "builder.add_edge(START, \"agent\")\n",
    "builder.add_conditional_edges(\n",
    "    \"agent\",\n",
    "    # If the latest message (result)\n",
    "    # from node agent is a tool call -> tools_condition routes to tools\n",
    "    # If the latest message (result)\n",
    "    # from node agent is a not a tool call -> tools_condition routes to END\n",
    "    tools_condition,\n",
    ")\n",
    "builder.add_edge(\"tools\", \"agent\")\n",
    "graph = builder.compile()\n",
    "\n",
    "display(Image(graph.get_graph(xray=True).draw_mermaid_png()))"
   ]
  },
  {
   "cell_type": "code",
   "execution_count": 57,
   "metadata": {},
   "outputs": [],
   "source": [
    "from langchain_core.messages import HumanMessage\n",
    "\n",
    "def format_question(q):\n",
    "    question = q[\"question\"]\n",
    "    options = q.get(\"options\", \"\")\n",
    "    if options:\n",
    "        formatted = f\"{question}, options: {' '.join(options)}\"\n",
    "    else:\n",
    "        formatted = question\n",
    "    \n",
    "    print(formatted)\n",
    "    return [HumanMessage(content=formatted)]"
   ]
  },
  {
   "cell_type": "code",
   "execution_count": 58,
   "metadata": {},
   "outputs": [
    {
     "name": "stdout",
     "output_type": "stream",
     "text": [
      "You’ve encountered a dense forest near the Blue Mountains, and your party is unsure how to proceed. There is a fork in the road, and you must choose a path. Which way will you go?, options: A: take the northern trail B: take the southern trail C: turn around D: go fishing\n",
      "[HumanMessage(content='You’ve encountered a dense forest near the Blue Mountains, and your party is unsure how to proceed. There is a fork in the road, and you must choose a path. Which way will you go?, options: A: take the northern trail B: take the southern trail C: turn around D: go fishing', additional_kwargs={}, response_metadata={}, id='3f3718e1-a532-449a-aa29-7ac389a270ed')]\n",
      "[HumanMessage(content='You’ve encountered a dense forest near the Blue Mountains, and your party is unsure how to proceed. There is a fork in the road, and you must choose a path. Which way will you go?, options: A: take the northern trail B: take the southern trail C: turn around D: go fishing', additional_kwargs={}, response_metadata={}, id='3f3718e1-a532-449a-aa29-7ac389a270ed'), AIMessage(content='', additional_kwargs={'tool_calls': [{'id': 'call_32VWibebufNywkeNIpsuNHiS', 'function': {'arguments': '{\"query\": \"northern trail near Blue Mountains Oregon Trail\"}', 'name': 'retrieve_blog_posts'}, 'type': 'function'}, {'id': 'call_MjFp6zQgJegvjb1swBNTszNq', 'function': {'arguments': '{\"query\": \"southern trail near Blue Mountains Oregon Trail\"}', 'name': 'retrieve_blog_posts'}, 'type': 'function'}], 'refusal': None}, response_metadata={'token_usage': {'completion_tokens': 60, 'prompt_tokens': 178, 'total_tokens': 238, 'completion_tokens_details': {'audio_tokens': 0, 'reasoning_tokens': 0, 'accepted_prediction_tokens': 0, 'rejected_prediction_tokens': 0}, 'prompt_tokens_details': {'audio_tokens': 0, 'cached_tokens': 0}}, 'model_name': 'gpt-4o-2024-08-06', 'system_fingerprint': 'fp_7f6be3efb0', 'finish_reason': 'tool_calls', 'logprobs': None}, id='run-26570a0d-ed4a-4809-b9a2-3bf8ff8034f8-0', tool_calls=[{'name': 'retrieve_blog_posts', 'args': {'query': 'northern trail near Blue Mountains Oregon Trail'}, 'id': 'call_32VWibebufNywkeNIpsuNHiS', 'type': 'tool_call'}, {'name': 'retrieve_blog_posts', 'args': {'query': 'southern trail near Blue Mountains Oregon Trail'}, 'id': 'call_MjFp6zQgJegvjb1swBNTszNq', 'type': 'tool_call'}], usage_metadata={'input_tokens': 178, 'output_tokens': 60, 'total_tokens': 238, 'input_token_details': {'audio': 0, 'cache_read': 0}, 'output_token_details': {'audio': 0, 'reasoning': 0}}), ToolMessage(content='the northern trail, of the blue mountains, was destroyed by a flood and is no longer safe to traverse. It is recommended to take the southern trail although it is longer.\\n\\nthe northern trail, of the blue mountains, was destroyed by a flood and is no longer safe to traverse. It is recommended to take the southern trail although it is longer.', name='retrieve_blog_posts', id='e5e31080-c461-4e36-8b38-fa0a23c76b25', tool_call_id='call_32VWibebufNywkeNIpsuNHiS'), ToolMessage(content='the northern trail, of the blue mountains, was destroyed by a flood and is no longer safe to traverse. It is recommended to take the southern trail although it is longer.\\n\\nthe northern trail, of the blue mountains, was destroyed by a flood and is no longer safe to traverse. It is recommended to take the southern trail although it is longer.', name='retrieve_blog_posts', id='97a157c9-432d-40ea-ac77-bfd8af99c8dc', tool_call_id='call_MjFp6zQgJegvjb1swBNTszNq')]\n"
     ]
    }
   ],
   "source": [
    "import json\n",
    "\n",
    "with open(\"questions.json\") as f:\n",
    "    questions = json.load(f)\n",
    "\n",
    "res = graph.invoke({\"messages\": format_question(questions[0])})"
   ]
  },
  {
   "cell_type": "code",
   "execution_count": 59,
   "metadata": {},
   "outputs": [
    {
     "data": {
      "text/plain": [
       "'B'"
      ]
     },
     "execution_count": 59,
     "metadata": {},
     "output_type": "execute_result"
    }
   ],
   "source": [
    "res['messages'][-1].content"
   ]
  },
  {
   "cell_type": "code",
   "execution_count": 36,
   "metadata": {},
   "outputs": [
    {
     "data": {
      "text/plain": [
       "{'messages': [HumanMessage(content='You’ve encountered a dense forest near the Blue Mountains, and your party is unsure how to proceed. There is a fork in the road, and you must choose a path. Which way will you go?, options: A: take the northern trail B: take the southern trail C: turn around D: go fishing', additional_kwargs={}, response_metadata={}, id='a4bd2b6e-ab9d-4dfa-893c-885fc88904ae'),\n",
       "  AIMessage(content='', additional_kwargs={'tool_calls': [{'id': 'call_rupXM8QHAx9NiRmSckSMj69q', 'function': {'arguments': '{\"query\": \"Oregon Trail Blue Mountains northern trail vs southern trail\"}', 'name': 'retrieve_blog_posts'}, 'type': 'function'}, {'id': 'call_DR8s2g9XCdfRXf3bDWwH8qKF', 'function': {'arguments': '{\"query\": \"Oregon Trail strategies dense forest\"}', 'name': 'retrieve_blog_posts'}, 'type': 'function'}, {'id': 'call_NRTFiZ5mPcXT7JFDErjwvpVF', 'function': {'arguments': '{\"query\": \"Oregon Trail fishing in dense forest\"}', 'name': 'retrieve_blog_posts'}, 'type': 'function'}], 'refusal': None}, response_metadata={'token_usage': {'completion_tokens': 81, 'prompt_tokens': 178, 'total_tokens': 259, 'completion_tokens_details': {'audio_tokens': 0, 'reasoning_tokens': 0, 'accepted_prediction_tokens': 0, 'rejected_prediction_tokens': 0}, 'prompt_tokens_details': {'audio_tokens': 0, 'cached_tokens': 0}}, 'model_name': 'gpt-4o-2024-08-06', 'system_fingerprint': 'fp_7f6be3efb0', 'finish_reason': 'tool_calls', 'logprobs': None}, id='run-be3a0611-f85e-4dd9-ac1d-9fe80024fecd-0', tool_calls=[{'name': 'retrieve_blog_posts', 'args': {'query': 'Oregon Trail Blue Mountains northern trail vs southern trail'}, 'id': 'call_rupXM8QHAx9NiRmSckSMj69q', 'type': 'tool_call'}, {'name': 'retrieve_blog_posts', 'args': {'query': 'Oregon Trail strategies dense forest'}, 'id': 'call_DR8s2g9XCdfRXf3bDWwH8qKF', 'type': 'tool_call'}, {'name': 'retrieve_blog_posts', 'args': {'query': 'Oregon Trail fishing in dense forest'}, 'id': 'call_NRTFiZ5mPcXT7JFDErjwvpVF', 'type': 'tool_call'}], usage_metadata={'input_tokens': 178, 'output_tokens': 81, 'total_tokens': 259, 'input_token_details': {'audio': 0, 'cache_read': 0}, 'output_token_details': {'audio': 0, 'reasoning': 0}}),\n",
       "  ToolMessage(content='the northern trail, of the blue mountains, was destroyed by a flood and is no longer safe to traverse. It is recommended to take the southern trail although it is longer.\\n\\nthe northern trail, of the blue mountains, was destroyed by a flood and is no longer safe to traverse. It is recommended to take the southern trail although it is longer.', name='retrieve_blog_posts', id='229cb676-833a-43b8-ac8b-fac2161ba909', tool_call_id='call_rupXM8QHAx9NiRmSckSMj69q'),\n",
       "  ToolMessage(content='the northern trail, of the blue mountains, was destroyed by a flood and is no longer safe to traverse. It is recommended to take the southern trail although it is longer.\\n\\nthe northern trail, of the blue mountains, was destroyed by a flood and is no longer safe to traverse. It is recommended to take the southern trail although it is longer.', name='retrieve_blog_posts', id='89362385-7225-43a9-bd6b-7fedfa97ed7d', tool_call_id='call_DR8s2g9XCdfRXf3bDWwH8qKF'),\n",
       "  ToolMessage(content='the northern trail, of the blue mountains, was destroyed by a flood and is no longer safe to traverse. It is recommended to take the southern trail although it is longer.\\n\\nthe northern trail, of the blue mountains, was destroyed by a flood and is no longer safe to traverse. It is recommended to take the southern trail although it is longer.', name='retrieve_blog_posts', id='906a79de-c5f0-4d0a-841b-aa09b1d339c2', tool_call_id='call_NRTFiZ5mPcXT7JFDErjwvpVF'),\n",
       "  AIMessage(content='A: take the northern trail', additional_kwargs={'refusal': None}, response_metadata={'token_usage': {'completion_tokens': 7, 'prompt_tokens': 492, 'total_tokens': 499, 'completion_tokens_details': {'audio_tokens': 0, 'reasoning_tokens': 0, 'accepted_prediction_tokens': 0, 'rejected_prediction_tokens': 0}, 'prompt_tokens_details': {'audio_tokens': 0, 'cached_tokens': 0}}, 'model_name': 'gpt-4o-2024-08-06', 'system_fingerprint': 'fp_7f6be3efb0', 'finish_reason': 'stop', 'logprobs': None}, id='run-c34c9144-f969-4f04-98b5-d2bf2c08de6e-0', usage_metadata={'input_tokens': 492, 'output_tokens': 7, 'total_tokens': 499, 'input_token_details': {'audio': 0, 'cache_read': 0}, 'output_token_details': {'audio': 0, 'reasoning': 0}})]}"
      ]
     },
     "execution_count": 36,
     "metadata": {},
     "output_type": "execute_result"
    }
   ],
   "source": [
    "res"
   ]
  },
  {
   "cell_type": "code",
   "execution_count": 60,
   "metadata": {},
   "outputs": [
    {
     "name": "stderr",
     "output_type": "stream",
     "text": [
      "/Users/robert.shelton/.pyenv/versions/3.11.9/lib/python3.11/site-packages/huggingface_hub/file_download.py:1142: FutureWarning: `resume_download` is deprecated and will be removed in version 1.0.0. Downloads always resume when possible. If you want to force a new download, use `force_download=True`.\n",
      "  warnings.warn(\n",
      "/Users/robert.shelton/.pyenv/versions/3.11.9/lib/python3.11/site-packages/huggingface_hub/file_download.py:1142: FutureWarning: `resume_download` is deprecated and will be removed in version 1.0.0. Downloads always resume when possible. If you want to force a new download, use `force_download=True`.\n",
      "  warnings.warn(\n",
      "/Users/robert.shelton/.pyenv/versions/3.11.9/lib/python3.11/site-packages/transformers/models/mpnet/modeling_mpnet.py:1051: UserWarning: cumsum_out_mps supported by MPS on MacOS 13+, please upgrade (Triggered internally at /Users/runner/work/pytorch/pytorch/pytorch/aten/src/ATen/native/mps/operations/UnaryOps.mm:422.)\n",
      "  incremental_indices = torch.cumsum(mask, dim=1).type_as(mask) * mask\n"
     ]
    },
    {
     "data": {
      "text/plain": [
       "'oregon_trail_cache:60ff4182070112f33f3fcc9ddcfabd6f22fe9b62406c7fbeba1a53930e05b824'"
      ]
     },
     "execution_count": 60,
     "metadata": {},
     "output_type": "execute_result"
    }
   ],
   "source": [
    "from redisvl.extensions.llmcache import SemanticCache\n",
    "\n",
    "hunting_example = \"There's a deer. You're hungry. You know what you have to do...\"\n",
    "\n",
    "semantic_cache = SemanticCache(\n",
    "    name=\"oregon_trail_cache\",\n",
    "    redis_url=\"redis://localhost:6379/0\",\n",
    "    distance_threshold=0.1\n",
    ")\n",
    "\n",
    "semantic_cache.store(\n",
    "    prompt=hunting_example,\n",
    "    response=\"bang\"\n",
    ")\n",
    "\n"
   ]
  },
  {
   "cell_type": "code",
   "execution_count": 66,
   "metadata": {},
   "outputs": [
    {
     "name": "stdout",
     "output_type": "stream",
     "text": [
      "no hit\n",
      "[{'response': 'bang', 'key': 'oregon_trail_cache:60ff4182070112f33f3fcc9ddcfabd6f22fe9b62406c7fbeba1a53930e05b824'}]\n",
      "no hit\n"
     ]
    }
   ],
   "source": [
    "for q in [\"not a hit\", hunting_example, \"not a hit\"]:\n",
    "    cache_hit = semantic_cache.check(prompt=q, return_fields=[\"response\"])\n",
    "\n",
    "    if cache_hit:\n",
    "        print(cache_hit)\n",
    "        continue\n",
    "    \n",
    "    print(\"no hit\")"
   ]
  },
  {
   "cell_type": "code",
   "execution_count": 65,
   "metadata": {},
   "outputs": [],
   "source": [
    "if cache_hit:\n",
    "    print(\"hello\")"
   ]
  },
  {
   "cell_type": "code",
   "execution_count": 72,
   "metadata": {},
   "outputs": [
    {
     "name": "stdout",
     "output_type": "stream",
     "text": [
      "0.5185549259185791\n"
     ]
    }
   ],
   "source": [
    "import time\n",
    "start = time.time()\n",
    "cache_hit = semantic_cache.check(prompt=hunting_example, return_fields=[\"response\"])\n",
    "print(time.time() - start)"
   ]
  },
  {
   "cell_type": "code",
   "execution_count": 71,
   "metadata": {},
   "outputs": [
    {
     "data": {
      "text/plain": [
       "'bang'"
      ]
     },
     "execution_count": 71,
     "metadata": {},
     "output_type": "execute_result"
    }
   ],
   "source": [
    "cache_hit[-1][\"response\"]"
   ]
  },
  {
   "cell_type": "code",
   "execution_count": 54,
   "metadata": {},
   "outputs": [],
   "source": [
    "from abc import ABC, abstractmethod\n",
    "\n",
    "\n",
    "class GamePlayInterface(ABC):\n",
    "    @property\n",
    "    @abstractmethod\n",
    "    def router(self):\n",
    "        \"\"\"Return the router instance.\"\"\"\n",
    "        pass\n",
    "\n",
    "    @property\n",
    "    @abstractmethod\n",
    "    def semantic_cache(self):\n",
    "        \"\"\"Return the semantic cache instance.\"\"\"\n",
    "        pass\n",
    "\n",
    "    @property\n",
    "    @abstractmethod\n",
    "    def graph(self):\n",
    "        \"\"\"Return the graph instance.\"\"\"\n",
    "        pass\n",
    "\n",
    "router = None\n",
    "semantic_cache = None\n",
    "graph = None\n",
    "\n",
    "class ExampleApp(GamePlayInterface):\n",
    "    def __init__(self):\n",
    "        self._router = router\n",
    "        self._semantic_cache = semantic_cache\n",
    "        self._graph = graph\n",
    "    \n",
    "    def graph(self):\n",
    "        return self._graph\n",
    "    \n",
    "    def semantic_cache(self):\n",
    "        return self._semantic_cache\n",
    "    \n",
    "    def router(self):\n",
    "        return self._router"
   ]
  },
  {
   "cell_type": "code",
   "execution_count": 55,
   "metadata": {},
   "outputs": [],
   "source": [
    "app = ExampleApp()"
   ]
  },
  {
   "cell_type": "code",
   "execution_count": 57,
   "metadata": {},
   "outputs": [],
   "source": [
    "app.router()"
   ]
  },
  {
   "cell_type": "code",
   "execution_count": null,
   "metadata": {},
   "outputs": [],
   "source": []
  }
 ],
 "metadata": {
  "kernelspec": {
   "display_name": "Python 3",
   "language": "python",
   "name": "python3"
  },
  "language_info": {
   "codemirror_mode": {
    "name": "ipython",
    "version": 3
   },
   "file_extension": ".py",
   "mimetype": "text/x-python",
   "name": "python",
   "nbconvert_exporter": "python",
   "pygments_lexer": "ipython3",
   "version": "3.11.9"
  }
 },
 "nbformat": 4,
 "nbformat_minor": 2
}
